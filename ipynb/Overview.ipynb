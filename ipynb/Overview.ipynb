{
 "cells": [
  {
   "cell_type": "markdown",
   "metadata": {},
   "source": [
    "# MyEDA Python Library\n",
    "## An Overview..."
   ]
  },
  {
   "cell_type": "markdown",
   "metadata": {},
   "source": [
    "### Imports"
   ]
  },
  {
   "cell_type": "markdown",
   "metadata": {},
   "source": [
    "MyEDA Modules "
   ]
  },
  {
   "cell_type": "code",
   "execution_count": 4,
   "metadata": {},
   "outputs": [],
   "source": [
    "from myeda.simulation import Sim, Event\n",
    "from myeda.visualization import *\n",
    "from myeda.misc import *\n",
    "#from myeda.sequential import FSM\n",
    "#from myeda.combinational import Cover\n",
    "from myeda import *"
   ]
  },
  {
   "cell_type": "markdown",
   "metadata": {},
   "source": [
    "IPython Notebook Features"
   ]
  },
  {
   "cell_type": "code",
   "execution_count": 5,
   "metadata": {},
   "outputs": [],
   "source": [
    "from IPython.core.display import HTML"
   ]
  },
  {
   "cell_type": "markdown",
   "metadata": {},
   "source": [
    "## 3rd Party Modules"
   ]
  },
  {
   "cell_type": "markdown",
   "metadata": {},
   "source": [
    "PyEDA"
   ]
  },
  {
   "cell_type": "code",
   "execution_count": 6,
   "metadata": {},
   "outputs": [],
   "source": [
    "from pyeda.inter import *\n",
    "X = exprvars('x',3)\n",
    "Y = exprvars('y',2)\n",
    "ttable = truthtable(X, \"00110101\")\n",
    "expr1 = expr('y[0]&~y[1] | ~y[0]&y[1] | y[0]&y[1]')\n",
    "expr2 = truthtable2expr(ttable)"
   ]
  },
  {
   "cell_type": "markdown",
   "metadata": {},
   "source": [
    "Quine McCluskey"
   ]
  },
  {
   "cell_type": "code",
   "execution_count": 7,
   "metadata": {},
   "outputs": [
    {
     "data": {
      "text/plain": [
       "{'-11', '0--'}"
      ]
     },
     "execution_count": 7,
     "metadata": {},
     "output_type": "execute_result"
    }
   ],
   "source": [
    "import quine_mccluskey.qm as qm\n",
    "q=qm.QuineMcCluskey()\n",
    "one_set=[0,1,2,3,7]\n",
    "q.simplify(one_set)"
   ]
  },
  {
   "cell_type": "markdown",
   "metadata": {},
   "source": [
    "## Miscellaneous"
   ]
  },
  {
   "cell_type": "code",
   "execution_count": 8,
   "metadata": {},
   "outputs": [],
   "source": [
    "from myeda.misc import *"
   ]
  },
  {
   "cell_type": "markdown",
   "metadata": {},
   "source": [
    "Helper Functions"
   ]
  },
  {
   "cell_type": "code",
   "execution_count": 9,
   "metadata": {},
   "outputs": [
    {
     "data": {
      "text/plain": [
       "([2, 1], [2, 3, 5, 7])"
      ]
     },
     "execution_count": 9,
     "metadata": {},
     "output_type": "execute_result"
    }
   ],
   "source": [
    "onset(expr1), onset(ttable)"
   ]
  },
  {
   "cell_type": "code",
   "execution_count": 10,
   "metadata": {},
   "outputs": [
    {
     "data": {
      "text/plain": [
       "'~x[1] & ~x[2] | x[0] & x[1]'"
      ]
     },
     "execution_count": 10,
     "metadata": {},
     "output_type": "execute_result"
    }
   ],
   "source": [
    "bitstring2expr({'-11', '00-'},['x[0]','x[1]','x[2]'])"
   ]
  },
  {
   "cell_type": "code",
   "execution_count": 11,
   "metadata": {},
   "outputs": [
    {
     "data": {
      "text/plain": [
       "(['y[0]', 'y[1]'], ['x[0]', 'x[1]', 'x[2]'])"
      ]
     },
     "execution_count": 11,
     "metadata": {},
     "output_type": "execute_result"
    }
   ],
   "source": [
    "variables(expr1), variables(ttable)"
   ]
  },
  {
   "cell_type": "markdown",
   "metadata": {},
   "source": [
    "## Visualization"
   ]
  },
  {
   "cell_type": "code",
   "execution_count": 12,
   "metadata": {},
   "outputs": [],
   "source": [
    "import myeda.visualization.cube"
   ]
  },
  {
   "cell_type": "markdown",
   "metadata": {},
   "source": [
    "Define 2-dimesional boolean function"
   ]
  },
  {
   "cell_type": "code",
   "execution_count": 13,
   "metadata": {},
   "outputs": [],
   "source": [
    "g=expr1 # y[0]&~y[1] | ~y[0]&y[1] | y[0]&y[1]\n",
    "gt=expr2truthtable(g)\n",
    "gs=q.simplify(onset(gt))\n",
    "ge=expr(bitstring2expr(gs,variables(gt)))"
   ]
  },
  {
   "cell_type": "markdown",
   "metadata": {},
   "source": [
    "2-dimesional Cube"
   ]
  },
  {
   "cell_type": "code",
   "execution_count": 14,
   "metadata": {},
   "outputs": [
    {
     "name": "stdout",
     "output_type": "stream",
     "text": [
      "     \u001b[35m01\u001b[0m----\u001b[35m11\u001b[0m\n",
      "     |      |\n",
      "y    |      |\n",
      "|    |      |\n",
      "+-x  00----\u001b[35m10\u001b[0m\n"
     ]
    }
   ],
   "source": [
    "print_cube(2,g,g.xs,Y)"
   ]
  },
  {
   "cell_type": "markdown",
   "metadata": {},
   "source": [
    "Cube after minimization"
   ]
  },
  {
   "cell_type": "code",
   "execution_count": 15,
   "metadata": {},
   "outputs": [
    {
     "name": "stdout",
     "output_type": "stream",
     "text": [
      "     \u001b[35m01\u001b[0m\u001b[32m-\u001b[0m\u001b[32m-\u001b[0m\u001b[32m-\u001b[0m\u001b[32m-\u001b[0m\u001b[35m11\u001b[0m\n",
      "     |      \u001b[31m|\u001b[0m\n",
      "y    |      \u001b[31m|\u001b[0m\n",
      "|    |      \u001b[31m|\u001b[0m\n",
      "+-x  00----\u001b[35m10\u001b[0m\n"
     ]
    }
   ],
   "source": [
    "print_cube(2,g,ge.xs,Y)"
   ]
  },
  {
   "cell_type": "code",
   "execution_count": 16,
   "metadata": {},
   "outputs": [],
   "source": [
    "f=expr2 # truthtable(X, \"00110101\")\n",
    "ft=expr2truthtable(f)\n",
    "fs=q.simplify(onset(ft))\n",
    "fe=expr(bitstring2expr(fs,variables(ft)))"
   ]
  },
  {
   "cell_type": "markdown",
   "metadata": {},
   "source": [
    "3-dimesional Cube"
   ]
  },
  {
   "cell_type": "code",
   "execution_count": 20,
   "metadata": {},
   "outputs": [
    {
     "name": "stdout",
     "output_type": "stream",
     "text": [
      "        011---------\u001b[35m111\u001b[0m\n",
      "\t/|          /|\n",
      "       / |         / |\n",
      "      /  |        /  |\n",
      "    \u001b[35m010\u001b[0m---------\u001b[35m110\u001b[0m  |\n",
      "     |   |       |   |\n",
      "     |   |       |   |\n",
      "     |  001------|--\u001b[35m101\u001b[0m\n",
      "     |  /        |  /\n",
      "y z  | /         | /\n",
      "|/   |/          |/\n",
      "+-x 000---------100\n"
     ]
    }
   ],
   "source": [
    "print_cube(3,f,f.xs,X)"
   ]
  },
  {
   "cell_type": "markdown",
   "metadata": {},
   "source": [
    "Cube after minimization"
   ]
  },
  {
   "cell_type": "code",
   "execution_count": 21,
   "metadata": {},
   "outputs": [
    {
     "name": "stdout",
     "output_type": "stream",
     "text": [
      "        011---------\u001b[35m111\u001b[0m\n",
      "\t/|          /\u001b[32m|\u001b[0m\n",
      "       / |         / \u001b[32m|\u001b[0m\n",
      "      /  |        /  \u001b[32m|\u001b[0m\n",
      "    \u001b[35m010\u001b[0m\u001b[31m-\u001b[0m\u001b[31m-\u001b[0m\u001b[31m-\u001b[0m\u001b[31m-\u001b[0m\u001b[31m-\u001b[0m\u001b[31m-\u001b[0m\u001b[31m-\u001b[0m\u001b[31m-\u001b[0m\u001b[31m-\u001b[0m\u001b[35m110\u001b[0m  \u001b[32m|\u001b[0m\n",
      "     |   |       |   \u001b[32m|\u001b[0m\n",
      "     |   |       |   \u001b[32m|\u001b[0m\n",
      "     |  001------|--\u001b[35m101\u001b[0m\n",
      "     |  /        |  /\n",
      "y z  | /         | /\n",
      "|/   |/          |/\n",
      "+-x 000---------100\n"
     ]
    }
   ],
   "source": [
    "print_cube(3,f,fe.xs,X)"
   ]
  },
  {
   "cell_type": "markdown",
   "metadata": {},
   "source": [
    "# Simulation"
   ]
  },
  {
   "cell_type": "markdown",
   "metadata": {},
   "source": [
    "Define Circuit and Stimuli"
   ]
  },
  {
   "cell_type": "code",
   "execution_count": null,
   "metadata": {},
   "outputs": [],
   "source": [
    "delay=2\n",
    "signals=['A','B','sel','seln','S1','S2','Q']\n",
    "deps={ 'A': ['S1'], 'B': ['S2'], 'sel': ['seln','S2'], 'seln': ['S1'], 'S1': ['Q'], 'S2': ['Q']}\n",
    "func={'S1': '~(A&seln)', 'S2': '~(B&sel)', 'seln': '~sel', 'Q': '~(S1&S2)'}\n",
    "initial_state={'A': False, 'B': False, 'sel': True, 'seln': False, 'S1': True, 'S2': True, 'Q': False}\n",
    "#stimuli=[ ('A',True,0,20), ('B',True,0,10), ('sel',False,0,30) ]\n",
    "stimuli=[ Event('A',True,0,20), Event('B',True,0,10), Event('sel',False,0,30) ]\n",
    "ts='1 ns'"
   ]
  },
  {
   "cell_type": "markdown",
   "metadata": {},
   "source": [
    "Create Simulation Object and Run Simulation"
   ]
  },
  {
   "cell_type": "code",
   "execution_count": null,
   "metadata": {},
   "outputs": [],
   "source": [
    "sim = Sim(signals,deps,initial_state,stimuli,func,delay,ts)\n",
    "sim.simulate()"
   ]
  },
  {
   "cell_type": "markdown",
   "metadata": {},
   "source": [
    "Draw Simulation Waveform (using Wavedrom)"
   ]
  },
  {
   "cell_type": "code",
   "execution_count": null,
   "metadata": {},
   "outputs": [],
   "source": [
    "HTML(sim.render_svg())"
   ]
  },
  {
   "cell_type": "markdown",
   "metadata": {},
   "source": [
    "### Additional modules"
   ]
  },
  {
   "cell_type": "code",
   "execution_count": null,
   "metadata": {},
   "outputs": [],
   "source": [
    "import collections\n",
    "import sys\n",
    "from termcolor import colored, cprint"
   ]
  },
  {
   "cell_type": "markdown",
   "metadata": {},
   "source": [
    "### Example 1: 2-dimensional logic expression"
   ]
  },
  {
   "cell_type": "code",
   "execution_count": null,
   "metadata": {},
   "outputs": [],
   "source": [
    "q=qm.QuineMcCluskey()"
   ]
  },
  {
   "cell_type": "markdown",
   "metadata": {},
   "source": [
    "Boolean Variables:"
   ]
  },
  {
   "cell_type": "code",
   "execution_count": null,
   "metadata": {},
   "outputs": [],
   "source": [
    "Y = exprvars('y',2)\n",
    "Y"
   ]
  },
  {
   "cell_type": "markdown",
   "metadata": {},
   "source": [
    "Boolean expression and truth table:"
   ]
  },
  {
   "cell_type": "code",
   "execution_count": null,
   "metadata": {},
   "outputs": [],
   "source": [
    "g=expr('y[0]&~y[1] | ~y[0]&y[1] | y[0]&y[1]')\n",
    "g"
   ]
  },
  {
   "cell_type": "code",
   "execution_count": null,
   "metadata": {},
   "outputs": [],
   "source": [
    "gt=expr2truthtable(g)\n",
    "gt"
   ]
  },
  {
   "cell_type": "markdown",
   "metadata": {},
   "source": [
    "Prime implicants calculated with Quine-McCluskey's method:"
   ]
  },
  {
   "cell_type": "code",
   "execution_count": null,
   "metadata": {},
   "outputs": [],
   "source": [
    "gs=q.simplify(onset(gt))\n",
    "gs"
   ]
  },
  {
   "cell_type": "code",
   "execution_count": null,
   "metadata": {},
   "outputs": [],
   "source": [
    "ge=expr(bitstring2expr(gs,variables(gt)))\n",
    "ge"
   ]
  },
  {
   "cell_type": "markdown",
   "metadata": {},
   "source": [
    "Cover table for choosing the essential prime implicants:"
   ]
  },
  {
   "cell_type": "code",
   "execution_count": null,
   "metadata": {},
   "outputs": [],
   "source": [
    "cover_table(2,onset(gt),ge.xs,Y)"
   ]
  },
  {
   "cell_type": "markdown",
   "metadata": {},
   "source": [
    "Cover condition for essential prime implicants and result:"
   ]
  },
  {
   "cell_type": "code",
   "execution_count": null,
   "metadata": {},
   "outputs": [],
   "source": [
    "gc=cover_condition(2,onset(gt),ge.xs,Y)\n",
    "gc"
   ]
  },
  {
   "cell_type": "code",
   "execution_count": null,
   "metadata": {},
   "outputs": [],
   "source": [
    "list(gc.satisfy_all())"
   ]
  },
  {
   "cell_type": "markdown",
   "metadata": {},
   "source": [
    "2-dimensional cube with minimization result:"
   ]
  },
  {
   "cell_type": "code",
   "execution_count": null,
   "metadata": {},
   "outputs": [],
   "source": [
    "print_cube(2,g,ge.xs,Y)"
   ]
  },
  {
   "cell_type": "markdown",
   "metadata": {},
   "source": [
    "### Example 2: 3-dimensional logic expression"
   ]
  },
  {
   "cell_type": "code",
   "execution_count": null,
   "metadata": {},
   "outputs": [],
   "source": []
  }
 ],
 "metadata": {
  "kernelspec": {
   "display_name": "Python 3",
   "language": "python",
   "name": "python3"
  },
  "language_info": {
   "codemirror_mode": {
    "name": "ipython",
    "version": 3
   },
   "file_extension": ".py",
   "mimetype": "text/x-python",
   "name": "python",
   "nbconvert_exporter": "python",
   "pygments_lexer": "ipython3",
   "version": "3.5.3"
  }
 },
 "nbformat": 4,
 "nbformat_minor": 2
}
